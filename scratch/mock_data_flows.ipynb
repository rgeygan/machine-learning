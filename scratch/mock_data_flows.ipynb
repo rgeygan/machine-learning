{
 "cells": [
  {
   "cell_type": "code",
   "execution_count": 2,
   "id": "2cbfb3dc-bff9-4874-8867-c7d74742286c",
   "metadata": {},
   "outputs": [
    {
     "ename": "ModuleNotFoundError",
     "evalue": "No module named 'dataclass'",
     "output_type": "error",
     "traceback": [
      "\u001b[0;31m---------------------------------------------------------------------------\u001b[0m",
      "\u001b[0;31mModuleNotFoundError\u001b[0m                       Traceback (most recent call last)",
      "Cell \u001b[0;32mIn[2], line 2\u001b[0m\n\u001b[1;32m      1\u001b[0m \u001b[38;5;28;01mimport\u001b[39;00m \u001b[38;5;21;01mpandas\u001b[39;00m \u001b[38;5;28;01mas\u001b[39;00m \u001b[38;5;21;01mpd\u001b[39;00m\n\u001b[0;32m----> 2\u001b[0m \u001b[38;5;28;01mimport\u001b[39;00m \u001b[38;5;21;01mdataclass\u001b[39;00m\n",
      "\u001b[0;31mModuleNotFoundError\u001b[0m: No module named 'dataclass'"
     ]
    }
   ],
   "source": [
    "import pandas as pd\n",
    "import dataclass"
   ]
  },
  {
   "cell_type": "markdown",
   "id": "5218a6f7-0495-4920-bbb3-dd4752178bee",
   "metadata": {},
   "source": [
    "### Mock Data for Systems Carbon Flow"
   ]
  },
  {
   "cell_type": "code",
   "execution_count": null,
   "id": "436554d4-40e4-418f-8894-9dfb82fd7c0f",
   "metadata": {},
   "outputs": [],
   "source": [
    "df = pf.DataFrame(columns=['supplier',\n",
    "                           'carbon_collected',\n",
    "                           'processing_plant_id',\n",
    "                           'carbon_throughput',\n",
    "                           'storage_site_id',\n",
    "                           'carbon_stored',\n",
    "                           'purchaser',\n",
    "                           'carbon_fulfilled'"
   ]
  },
  {
   "cell_type": "markdown",
   "id": "cd1ed3ab-a706-42a7-88cf-85392d4dd3b0",
   "metadata": {},
   "source": [
    "### Mock DB Classes"
   ]
  },
  {
   "cell_type": "code",
   "execution_count": null,
   "id": "6a9fc10f-38c4-4ffb-8eca-f167bb48d322",
   "metadata": {},
   "outputs": [],
   "source": [
    "@dataclass\n",
    "class Supplier():\n",
    "    \"\"\"\n",
    "    Class object to represent biomass suppliers\n",
    "    \"\"\"\n",
    "\n",
    "    id:\n",
    "    pii:\n",
    "    event_time:\n",
    "    biomass_order:\n",
    "    total_biomass_purchased:\n",
    "    total_biomass_collected:\n",
    "    location:\n",
    "    \n",
    "\n",
    "\n",
    "@dataclass\n",
    "class Purchaser():\n",
    "    \"\"\"\n",
    "    Class object to represent carbon credit purchasers\n",
    "    \"\"\"\n",
    "\n",
    "    id:\n",
    "    pii:\n",
    "    event_time:\n",
    "    credit_order:\n",
    "    total_credits_sold:\n",
    "\n",
    "@dataclass\n",
    "class ProcessingPlant():\n",
    "    \"\"\"\n",
    "    Class object to represent a biomass processing plant\n",
    "    \"\"\"\n",
    "\n",
    "    id:\n",
    "    event_time:\n",
    "    biomass_received: 'essentially in-flux'\n",
    "    biomass_shipped: 'essentially out-flux'\n",
    "    instantaneous_throughput:\n",
    "    daily_operating_capacity:\n",
    "    yearly_operating_capacity:\n",
    "    location:\n",
    "\n",
    "@dataclass\n",
    "class StorageSite():\n",
    "    \"\"\"\n",
    "    Class object to represent a storage site\n",
    "    \"\"\"\n",
    "\n",
    "    id:\n",
    "    biomass_received: 'this is an event with an amount of biomass'\n",
    "    total_carbon_stored:\n",
    "    monitor:\n",
    "    total_capacity:\n",
    "    remaining_capacity:\n",
    "    location:\n",
    "\n",
    "@dataclass\n",
    "class Biomass():\n",
    "    \"\"\"\n",
    "    Class object to represent carbon in the system. We will need some sort of quantum\n",
    "    unit to track sets of biomass. Probably makese sense to track biomass as supply orders\n",
    "\n",
    "    But when two or more separate supply orders get to the processing facility, how can we tell\n",
    "    the difference between which set of biomass is being processed\n",
    "    \"\"\"\n",
    "\n",
    "    status: Enum(['purchased', 'collected', 'processing', 'stored'])\n",
    "    total_biomass:\n",
    "    supplier:\n",
    "    biomass_type:\n",
    "    \n",
    "    \n"
   ]
  },
  {
   "cell_type": "markdown",
   "id": "88c7f5e0-9905-45f4-bfb3-6839e2f4dd08",
   "metadata": {},
   "source": [
    "### Mock Functions"
   ]
  },
  {
   "cell_type": "markdown",
   "id": "6b3ac66f-bb8a-43d2-801d-f55f624031cc",
   "metadata": {},
   "source": [
    "1. All CRUD operations\n",
    "   a. Every time a shipment of biomass gets to a facility or a contract is signed off, we will need to be able to update the DB with new biomass\n",
    "   b. Similarly, we will need the ability to remove or edit biomass purchases and shipments for when unexpected changes occur\n",
    "2. Basic arithmetic functions that will calcualte totals, averages, etc. for biomass flows"
   ]
  },
  {
   "cell_type": "markdown",
   "id": "d2e046aa-52d5-433c-80f3-041bd34e9ee4",
   "metadata": {},
   "source": [
    "### Basic Metrics"
   ]
  },
  {
   "cell_type": "markdown",
   "id": "e3b95f33-56b0-4dcd-abb3-f51104900658",
   "metadata": {},
   "source": [
    "1. We will want basic accounting metrics for how much biomass has been purchased, collected, processed, and stored\n",
    "   a. This will allow us to basic systems modeling\n",
    "2. We will want to connect those numbers to different suppliers in terms of biomass purchased and collected\n",
    "   a. This allows us to optimize our management of biomass supply\n",
    "3. We will want to connect those numbers to credit purchasers so we can show them how many credits have been fulfilled over time\n",
    "   a. This allows us to share detailed information with customers"
   ]
  },
  {
   "cell_type": "code",
   "execution_count": null,
   "id": "ad6f8a99-384a-4002-a848-bbcf94205991",
   "metadata": {},
   "outputs": [],
   "source": [
    "f = pd.Series("
   ]
  },
  {
   "cell_type": "code",
   "execution_count": 3,
   "id": "9385385f-0e7d-43f9-aa3b-bbce7d98ce8a",
   "metadata": {},
   "outputs": [],
   "source": [
    "tdf = pd.read_csv('/Volumes/NO NAME/Plots.csv')"
   ]
  },
  {
   "cell_type": "code",
   "execution_count": 4,
   "id": "6810de44-1758-4e67-8ce9-d07113c17aaf",
   "metadata": {},
   "outputs": [
    {
     "data": {
      "text/html": [
       "<div>\n",
       "<style scoped>\n",
       "    .dataframe tbody tr th:only-of-type {\n",
       "        vertical-align: middle;\n",
       "    }\n",
       "\n",
       "    .dataframe tbody tr th {\n",
       "        vertical-align: top;\n",
       "    }\n",
       "\n",
       "    .dataframe thead th {\n",
       "        text-align: right;\n",
       "    }\n",
       "</style>\n",
       "<table border=\"1\" class=\"dataframe\">\n",
       "  <thead>\n",
       "    <tr style=\"text-align: right;\">\n",
       "      <th></th>\n",
       "      <th>Set</th>\n",
       "      <th>Rep</th>\n",
       "      <th>Time</th>\n",
       "      <th>Carbon</th>\n",
       "      <th>Nitrogen</th>\n",
       "    </tr>\n",
       "  </thead>\n",
       "  <tbody>\n",
       "    <tr>\n",
       "      <th>0</th>\n",
       "      <td>test1</td>\n",
       "      <td>1</td>\n",
       "      <td>2024-06-17 11:34:16</td>\n",
       "      <td>NaN</td>\n",
       "      <td>2.229066e-06</td>\n",
       "    </tr>\n",
       "    <tr>\n",
       "      <th>1</th>\n",
       "      <td>test1</td>\n",
       "      <td>1</td>\n",
       "      <td>2024-06-17 11:34:17</td>\n",
       "      <td>0.006609</td>\n",
       "      <td>6.066035e-06</td>\n",
       "    </tr>\n",
       "    <tr>\n",
       "      <th>2</th>\n",
       "      <td>test1</td>\n",
       "      <td>1</td>\n",
       "      <td>2024-06-17 11:34:18</td>\n",
       "      <td>0.002700</td>\n",
       "      <td>3.905875e-06</td>\n",
       "    </tr>\n",
       "    <tr>\n",
       "      <th>3</th>\n",
       "      <td>test1</td>\n",
       "      <td>1</td>\n",
       "      <td>2024-06-17 11:34:19</td>\n",
       "      <td>0.000955</td>\n",
       "      <td>-9.529923e-07</td>\n",
       "    </tr>\n",
       "    <tr>\n",
       "      <th>4</th>\n",
       "      <td>test1</td>\n",
       "      <td>1</td>\n",
       "      <td>2024-06-17 11:34:20</td>\n",
       "      <td>0.000494</td>\n",
       "      <td>9.180961e-06</td>\n",
       "    </tr>\n",
       "    <tr>\n",
       "      <th>...</th>\n",
       "      <td>...</td>\n",
       "      <td>...</td>\n",
       "      <td>...</td>\n",
       "      <td>...</td>\n",
       "      <td>...</td>\n",
       "    </tr>\n",
       "    <tr>\n",
       "      <th>3161</th>\n",
       "      <td>test1</td>\n",
       "      <td>30</td>\n",
       "      <td>2024-06-17 12:53:44</td>\n",
       "      <td>NaN</td>\n",
       "      <td>7.245076e-06</td>\n",
       "    </tr>\n",
       "    <tr>\n",
       "      <th>3162</th>\n",
       "      <td>test1</td>\n",
       "      <td>30</td>\n",
       "      <td>2024-06-17 12:53:45</td>\n",
       "      <td>NaN</td>\n",
       "      <td>4.838553e-06</td>\n",
       "    </tr>\n",
       "    <tr>\n",
       "      <th>3163</th>\n",
       "      <td>test1</td>\n",
       "      <td>30</td>\n",
       "      <td>2024-06-17 12:53:46</td>\n",
       "      <td>NaN</td>\n",
       "      <td>-5.645602e-07</td>\n",
       "    </tr>\n",
       "    <tr>\n",
       "      <th>3164</th>\n",
       "      <td>test1</td>\n",
       "      <td>30</td>\n",
       "      <td>2024-06-17 12:53:47</td>\n",
       "      <td>NaN</td>\n",
       "      <td>4.820047e-06</td>\n",
       "    </tr>\n",
       "    <tr>\n",
       "      <th>3165</th>\n",
       "      <td>test1</td>\n",
       "      <td>30</td>\n",
       "      <td>2024-06-17 12:53:48</td>\n",
       "      <td>NaN</td>\n",
       "      <td>1.641811e-06</td>\n",
       "    </tr>\n",
       "  </tbody>\n",
       "</table>\n",
       "<p>3166 rows × 5 columns</p>\n",
       "</div>"
      ],
      "text/plain": [
       "        Set  Rep                 Time    Carbon      Nitrogen\n",
       "0     test1    1  2024-06-17 11:34:16       NaN  2.229066e-06\n",
       "1     test1    1  2024-06-17 11:34:17  0.006609  6.066035e-06\n",
       "2     test1    1  2024-06-17 11:34:18  0.002700  3.905875e-06\n",
       "3     test1    1  2024-06-17 11:34:19  0.000955 -9.529923e-07\n",
       "4     test1    1  2024-06-17 11:34:20  0.000494  9.180961e-06\n",
       "...     ...  ...                  ...       ...           ...\n",
       "3161  test1   30  2024-06-17 12:53:44       NaN  7.245076e-06\n",
       "3162  test1   30  2024-06-17 12:53:45       NaN  4.838553e-06\n",
       "3163  test1   30  2024-06-17 12:53:46       NaN -5.645602e-07\n",
       "3164  test1   30  2024-06-17 12:53:47       NaN  4.820047e-06\n",
       "3165  test1   30  2024-06-17 12:53:48       NaN  1.641811e-06\n",
       "\n",
       "[3166 rows x 5 columns]"
      ]
     },
     "execution_count": 4,
     "metadata": {},
     "output_type": "execute_result"
    }
   ],
   "source": [
    "tdf"
   ]
  },
  {
   "cell_type": "code",
   "execution_count": 18,
   "id": "c1879547-fc24-4371-a08c-b2ac1eb53f4c",
   "metadata": {},
   "outputs": [
    {
     "data": {
      "text/plain": [
       "<Axes: >"
      ]
     },
     "execution_count": 18,
     "metadata": {},
     "output_type": "execute_result"
    },
    {
     "data": {
      "image/png": "[encoded data removed]",
      "text/plain": [
       "<Figure size 640x480 with 1 Axes>"
      ]
     },
     "metadata": {},
     "output_type": "display_data"
    }
   ],
   "source": [
    "tdf[(tdf.Rep==1)].dropna().Carbon.plot()"
   ]
  },
  {
   "cell_type": "code",
   "execution_count": null,
   "id": "304dc905-cd2a-4954-9a71-eb0fdddb9606",
   "metadata": {},
   "outputs": [],
   "source": []
  }
 ],
 "metadata": {
  "kernelspec": {
   "display_name": "machine-learning",
   "language": "python",
   "name": "machine-learning"
  },
  "language_info": {
   "codemirror_mode": {
    "name": "ipython",
    "version": 3
   },
   "file_extension": ".py",
   "mimetype": "text/x-python",
   "name": "python",
   "nbconvert_exporter": "python",
   "pygments_lexer": "ipython3",
   "version": "3.12.2"
  }
 },
 "nbformat": 4,
 "nbformat_minor": 5
}
