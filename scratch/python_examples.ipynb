{
 "cells": [
  {
   "cell_type": "code",
   "execution_count": 2,
   "id": "72e88554-94d6-4695-8526-5afeb0b3c98e",
   "metadata": {},
   "outputs": [
    {
     "name": "stdout",
     "output_type": "stream",
     "text": [
      "3\n",
      "3\n",
      "3\n"
     ]
    }
   ],
   "source": [
    "class Car:\n",
    "    # Class variable\n",
    "    num_cars = 0\n",
    "\n",
    "    def __init__(self, make, model):\n",
    "        self.make = make\n",
    "        self.model = model\n",
    "        Car.num_cars += 1  # Incrementing the class variable each time an instance is created\n",
    "\n",
    "# Creating instances of Car\n",
    "car1 = Car(\"Toyota\", \"Camry\")\n",
    "car2 = Car(\"Honda\", \"Accord\")\n",
    "car3 = Car(\"Honda\", \"Accord\")\n",
    "\n",
    "# Accessing class variable using class name\n",
    "print(Car.num_cars)  # Output: 2\n",
    "\n",
    "# Accessing class variable using instance\n",
    "print(car1.num_cars)  # Output: 2\n",
    "print(car2.num_cars)  # Output: 2"
   ]
  },
  {
   "cell_type": "code",
   "execution_count": 8,
   "id": "044aa9ee-ac10-4e59-adcd-20e29f0d5516",
   "metadata": {},
   "outputs": [
    {
     "ename": "NameError",
     "evalue": "name 'dataclass' is not defined",
     "output_type": "error",
     "traceback": [
      "\u001b[0;31m---------------------------------------------------------------------------\u001b[0m",
      "\u001b[0;31mNameError\u001b[0m                                 Traceback (most recent call last)",
      "Cell \u001b[0;32mIn[8], line 1\u001b[0m\n\u001b[0;32m----> 1\u001b[0m \u001b[38;5;129m@dataclass\u001b[39m\n\u001b[1;32m      2\u001b[0m \u001b[38;5;28;01mclass\u001b[39;00m \u001b[38;5;21;01mCar\u001b[39;00m:\n\u001b[1;32m      3\u001b[0m     \u001b[38;5;66;03m# Class attribute to keep track of the number of instances\u001b[39;00m\n\u001b[1;32m      4\u001b[0m     total_cars \u001b[38;5;241m=\u001b[39m \u001b[38;5;241m0\u001b[39m\n\u001b[1;32m      5\u001b[0m     foo \u001b[38;5;241m=\u001b[39m \u001b[38;5;241m5\u001b[39m\n",
      "\u001b[0;31mNameError\u001b[0m: name 'dataclass' is not defined"
     ]
    }
   ],
   "source": [
    "class Car:\n",
    "    # Class attribute to keep track of the number of instances\n",
    "    total_cars = 0\n",
    "    \n",
    "    def __init__(self):\n",
    "        # Increment total number of cars\n",
    "        Car.total_cars += 1\n",
    "        \n",
    "        # Instance attribute to store the order of creation\n",
    "        self.order_of_creation = Car.total_cars\n",
    "    \n",
    "    def get_order_of_creation(self):\n",
    "        return self.order_of_creation\n",
    "\n",
    "# Creating instances of the Car class\n",
    "car1 = Car()\n",
    "car2 = Car()\n",
    "car3 = Car()\n",
    "\n",
    "# Getting the order of creation for each car\n",
    "print(\"Order of creation for car1:\", car1.get_order_of_creation())\n",
    "print(\"Order of creation for car2:\", car2.get_order_of_creation())\n",
    "print(\"Order of creation for car3:\", car3.get_order_of_creation())"
   ]
  },
  {
   "cell_type": "code",
   "execution_count": 6,
   "id": "4747ee97-15cf-4fcd-b7aa-bdeea5431e80",
   "metadata": {},
   "outputs": [
    {
     "data": {
      "text/plain": [
       "3"
      ]
     },
     "execution_count": 6,
     "metadata": {},
     "output_type": "execute_result"
    }
   ],
   "source": [
    "car3.total_cars"
   ]
  },
  {
   "cell_type": "raw",
   "id": "1665d2da-2cb5-4779-a08a-6a3e5b8e2943",
   "metadata": {},
   "source": [
    "car3.foo"
   ]
  },
  {
   "cell_type": "code",
   "execution_count": 9,
   "id": "36c982cd-4f95-49ba-89ca-cc986f28b2f2",
   "metadata": {},
   "outputs": [],
   "source": [
    "from dataclasses import dataclass, field\n",
    "\n",
    "@dataclass\n",
    "class Car:\n",
    "    total_cars: int = 0  # Default value for the total number of cars\n",
    "    \n",
    "    def __post_init__(self):\n",
    "        # Increment total number of cars after initialization\n",
    "        Car.total_cars += 1\n",
    "        \n",
    "        # Instance attribute to store the order of creation\n",
    "        self.order_of_creation = Car.total_cars"
   ]
  },
  {
   "cell_type": "code",
   "execution_count": 10,
   "id": "212d1fc1-c6be-49a6-b196-2b9bff812d65",
   "metadata": {},
   "outputs": [
    {
     "name": "stdout",
     "output_type": "stream",
     "text": [
      "Order of creation for car1: 1\n",
      "Order of creation for car2: 2\n",
      "Order of creation for car3: 3\n"
     ]
    }
   ],
   "source": [
    "# Creating instances of the Car class\n",
    "car1 = Car()\n",
    "car2 = Car()\n",
    "car3 = Car()\n",
    "\n",
    "# Getting the order of creation for each car\n",
    "print(\"Order of creation for car1:\", car1.order_of_creation)\n",
    "print(\"Order of creation for car2:\", car2.order_of_creation)\n",
    "print(\"Order of creation for car3:\", car3.order_of_creation)"
   ]
  },
  {
   "cell_type": "code",
   "execution_count": 16,
   "id": "fa9b45d9-ad82-48fe-a0ef-baaf031ed554",
   "metadata": {},
   "outputs": [
    {
     "name": "stdout",
     "output_type": "stream",
     "text": [
      "Hello from Parent class\n",
      "Hello from Parent class\n",
      "Hello from Child class\n"
     ]
    }
   ],
   "source": [
    "class Parent:\n",
    "    def greet(self):\n",
    "        print(\"Hello from Parent class\")\n",
    "\n",
    "class Child(Parent):\n",
    "    def greet(self):\n",
    "        # Call the greet() method of the Parent class without using super()\n",
    "        super().greet()\n",
    "        Parent.greet(self) # Equivalent to super().greet()\n",
    "        print(\"Hello from Child class\")\n",
    "\n",
    "# Create an instance of the Child class\n",
    "child = Child()\n",
    "\n",
    "# Call the greet() method of the Child class\n",
    "child.greet()"
   ]
  },
  {
   "cell_type": "code",
   "execution_count": 15,
   "id": "d7c3cb79-c9c1-4860-b995-b40fd7635073",
   "metadata": {},
   "outputs": [
    {
     "name": "stdout",
     "output_type": "stream",
     "text": [
      "Hello from Parent class\n",
      "Hello from Child class\n"
     ]
    }
   ],
   "source": [
    "class Parent:\n",
    "    def greet(self):\n",
    "        print(\"Hello from Parent class\")\n",
    "\n",
    "class Child(Parent):\n",
    "    def greet(self):\n",
    "        super().greet()  # Call the greet() method of the Parent class\n",
    "        print(\"Hello from Child class\")\n",
    "\n",
    "# Create an instance of the Child class\n",
    "child = Child()\n",
    "\n",
    "# Call the greet() method of the Child class\n",
    "child.greet()"
   ]
  },
  {
   "cell_type": "code",
   "execution_count": 17,
   "id": "d67615f3-58e0-44f4-8fd0-e41d2fb73f16",
   "metadata": {},
   "outputs": [
    {
     "name": "stdout",
     "output_type": "stream",
     "text": [
      "Hello from Parent class\n",
      "Hello from Parent class\n",
      "Hello from Child class\n"
     ]
    }
   ],
   "source": [
    "class Grandparent:\n",
    "    def greet(self):\n",
    "        print(\"Hello from Grandparent class\")\n",
    "\n",
    "class Parent:\n",
    "    def greet(self):\n",
    "        print(\"Hello from Parent class\")\n",
    "\n",
    "class Child(Parent, Grandparent):\n",
    "    def greet(self):\n",
    "        super().greet()  # Using super() to call the greet() method of the next class in the MRO\n",
    "        Parent.greet(self)  # Directly calling the greet() method of the Parent class\n",
    "        print(\"Hello from Child class\")\n",
    "\n",
    "# Create an instance of the Child class\n",
    "child = Child()\n",
    "\n",
    "# Call the greet() method of the Child class\n",
    "child.greet()"
   ]
  },
  {
   "cell_type": "code",
   "execution_count": 18,
   "id": "1893bd6f-1bad-410b-8dd1-d3c63e87a05a",
   "metadata": {},
   "outputs": [
    {
     "name": "stdout",
     "output_type": "stream",
     "text": [
      "Hello from Parent class\n",
      "Hello from Child class\n"
     ]
    }
   ],
   "source": [
    "class Grandparent:\n",
    "    def greet(self):\n",
    "        print(\"Hello from Grandparent class\")\n",
    "\n",
    "class Parent:\n",
    "    def greet(self):\n",
    "        print(\"Hello from Parent class\")\n",
    "\n",
    "class Child(Parent, Grandparent):\n",
    "    def greet(self):\n",
    "        super().greet()  # Using super() to call the greet() method of the next class in the MRO\n",
    "        print(\"Hello from Child class\")\n",
    "\n",
    "# Create an instance of the Child class\n",
    "child = Child()\n",
    "\n",
    "# Call the greet() method of the Child class\n",
    "child.greet()"
   ]
  },
  {
   "cell_type": "code",
   "execution_count": null,
   "id": "6c871d3b-530f-4534-9a78-ba9ab1e511ec",
   "metadata": {},
   "outputs": [],
   "source": []
  }
 ],
 "metadata": {
  "kernelspec": {
   "display_name": "machine-learning",
   "language": "python",
   "name": "machine-learning"
  },
  "language_info": {
   "codemirror_mode": {
    "name": "ipython",
    "version": 3
   },
   "file_extension": ".py",
   "mimetype": "text/x-python",
   "name": "python",
   "nbconvert_exporter": "python",
   "pygments_lexer": "ipython3",
   "version": "3.12.2"
  }
 },
 "nbformat": 4,
 "nbformat_minor": 5
}
