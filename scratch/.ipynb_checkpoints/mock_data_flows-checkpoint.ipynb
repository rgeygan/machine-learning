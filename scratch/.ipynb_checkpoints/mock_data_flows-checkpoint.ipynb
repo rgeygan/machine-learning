{
 "cells": [
  {
   "cell_type": "code",
   "execution_count": 2,
   "id": "2cbfb3dc-bff9-4874-8867-c7d74742286c",
   "metadata": {},
   "outputs": [
    {
     "ename": "ModuleNotFoundError",
     "evalue": "No module named 'dataclass'",
     "output_type": "error",
     "traceback": [
      "\u001b[0;31m---------------------------------------------------------------------------\u001b[0m",
      "\u001b[0;31mModuleNotFoundError\u001b[0m                       Traceback (most recent call last)",
      "Cell \u001b[0;32mIn[2], line 2\u001b[0m\n\u001b[1;32m      1\u001b[0m \u001b[38;5;28;01mimport\u001b[39;00m \u001b[38;5;21;01mpandas\u001b[39;00m \u001b[38;5;28;01mas\u001b[39;00m \u001b[38;5;21;01mpd\u001b[39;00m\n\u001b[0;32m----> 2\u001b[0m \u001b[38;5;28;01mimport\u001b[39;00m \u001b[38;5;21;01mdataclass\u001b[39;00m\n",
      "\u001b[0;31mModuleNotFoundError\u001b[0m: No module named 'dataclass'"
     ]
    }
   ],
   "source": [
    "import pandas as pd\n",
    "import dataclass"
   ]
  },
  {
   "cell_type": "markdown",
   "id": "5218a6f7-0495-4920-bbb3-dd4752178bee",
   "metadata": {},
   "source": [
    "### Mock Data for Systems Carbon Flow"
   ]
  },
  {
   "cell_type": "code",
   "execution_count": null,
   "id": "436554d4-40e4-418f-8894-9dfb82fd7c0f",
   "metadata": {},
   "outputs": [],
   "source": [
    "df = pf.DataFrame(columns=['supplier',\n",
    "                           'carbon_collected',\n",
    "                           'processing_plant_id',\n",
    "                           'carbon_throughput',\n",
    "                           'storage_site_id',\n",
    "                           'carbon_stored',\n",
    "                           'purchaser',\n",
    "                           'carbon_fulfilled'"
   ]
  },
  {
   "cell_type": "markdown",
   "id": "cd1ed3ab-a706-42a7-88cf-85392d4dd3b0",
   "metadata": {},
   "source": [
    "### Mock DB Classes"
   ]
  },
  {
   "cell_type": "code",
   "execution_count": null,
   "id": "6a9fc10f-38c4-4ffb-8eca-f167bb48d322",
   "metadata": {},
   "outputs": [],
   "source": [
    "@dataclass\n",
    "class Supplier():\n",
    "    \"\"\"\n",
    "    Class object to represent biomass suppliers\n",
    "    \"\"\"\n",
    "\n",
    "    id:\n",
    "    pii:\n",
    "    event_time:\n",
    "    biomass_order:\n",
    "    total_biomass_purchased:\n",
    "    total_biomass_collected:\n",
    "    location:\n",
    "    \n",
    "\n",
    "\n",
    "@dataclass\n",
    "class Purchaser():\n",
    "    \"\"\"\n",
    "    Class object to represent carbon credit purchasers\n",
    "    \"\"\"\n",
    "\n",
    "    id:\n",
    "    pii:\n",
    "    event_time:\n",
    "    credit_order:\n",
    "    total_credits_sold:\n",
    "\n",
    "@dataclass\n",
    "class ProcessingPlant():\n",
    "    \"\"\"\n",
    "    Class object to represent a biomass processing plant\n",
    "    \"\"\"\n",
    "\n",
    "    id:\n",
    "    event_time:\n",
    "    biomass_received: 'essentially in-flux'\n",
    "    biomass_shipped: 'essentially out-flux'\n",
    "    instantaneous_throughput:\n",
    "    daily_operating_capacity:\n",
    "    yearly_operating_capacity:\n",
    "    location:\n",
    "\n",
    "@dataclass\n",
    "class StorageSite():\n",
    "    \"\"\"\n",
    "    Class object to represent a storage site\n",
    "    \"\"\"\n",
    "\n",
    "    id:\n",
    "    biomass_received: 'this is an event with an amount of biomass'\n",
    "    total_carbon_stored:\n",
    "    monitor:\n",
    "    total_capacity:\n",
    "    remaining_capacity:\n",
    "    location:\n",
    "\n",
    "@dataclass\n",
    "class Biomass():\n",
    "    \"\"\"\n",
    "    Class object to represent carbon in the system. We will need some sort of quantum\n",
    "    unit to track sets of biomass. Probably makese sense to track biomass as supply orders\n",
    "\n",
    "    But when two or more separate supply orders get to the processing facility, how can we tell\n",
    "    the difference between which set of biomass is being processed\n",
    "    \"\"\"\n",
    "\n",
    "    status: Enum(['purchased', 'collected', 'processing', 'stored'])\n",
    "    total_biomass:\n",
    "    supplier:\n",
    "    biomass_type:\n",
    "    \n",
    "    \n"
   ]
  },
  {
   "cell_type": "markdown",
   "id": "88c7f5e0-9905-45f4-bfb3-6839e2f4dd08",
   "metadata": {},
   "source": [
    "### Mock Functions"
   ]
  },
  {
   "cell_type": "markdown",
   "id": "6b3ac66f-bb8a-43d2-801d-f55f624031cc",
   "metadata": {},
   "source": [
    "1. All CRUD operations\n",
    "   a. Every time a shipment of biomass gets to a facility or a contract is signed off, we will need to be able to update the DB with new biomass\n",
    "   b. Similarly, we will need the ability to remove or edit biomass purchases and shipments for when unexpected changes occur\n",
    "2. Basic arithmetic functions that will calcualte totals, averages, etc. for biomass flows"
   ]
  },
  {
   "cell_type": "markdown",
   "id": "d2e046aa-52d5-433c-80f3-041bd34e9ee4",
   "metadata": {},
   "source": [
    "### Basic Metrics"
   ]
  },
  {
   "cell_type": "markdown",
   "id": "e3b95f33-56b0-4dcd-abb3-f51104900658",
   "metadata": {},
   "source": [
    "1. We will want basic accounting metrics for how much biomass has been purchased, collected, processed, and stored\n",
    "   a. This will allow us to basic systems modeling\n",
    "2. We will want to connect those numbers to different suppliers in terms of biomass purchased and collected\n",
    "   a. This allows us to optimize our management of biomass supply\n",
    "3. We will want to connect those numbers to credit purchasers so we can show them how many credits have been fulfilled over time\n",
    "   a. This allows us to share detailed information with customers"
   ]
  }
 ],
 "metadata": {
  "kernelspec": {
   "display_name": "machine-learning",
   "language": "python",
   "name": "machine-learning"
  },
  "language_info": {
   "codemirror_mode": {
    "name": "ipython",
    "version": 3
   },
   "file_extension": ".py",
   "mimetype": "text/x-python",
   "name": "python",
   "nbconvert_exporter": "python",
   "pygments_lexer": "ipython3",
   "version": "3.12.2"
  }
 },
 "nbformat": 4,
 "nbformat_minor": 5
}
